{
 "cells": [
  {
   "cell_type": "code",
   "execution_count": null,
   "id": "c2a032db-cc5b-40d0-963b-652aeec6437c",
   "metadata": {},
   "outputs": [],
   "source": []
  }
 ],
 "metadata": {
  "kernelspec": {
   "display_name": "",
   "name": ""
  },
  "language_info": {
   "name": ""
  }
 },
 "nbformat": 4,
 "nbformat_minor": 5
}
